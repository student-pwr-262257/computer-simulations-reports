{
 "cells": [
  {
   "cell_type": "markdown",
   "id": "ac73b93e-a89d-4fca-a1ed-d807126b83bc",
   "metadata": {
    "tags": []
   },
   "source": [
    "# Normal distribution generation methods\n",
    "In this section of the report, we will explore different methods for generating random numbers from a normal distribution. The normal distribution is a widely used probability distribution in various fields due to its symmetric.  Generating random (pseudo-random) numbers from a normal distribution is essential in many statistical simulations. We will focus on three commonly employed methods for generating random numbers from a normal distribution: the Box-Muller transform, the Polar method and rejection sampling. The last subsection is benchmark.\n",
    "## Box-Muller transform\n",
    "The Box-Muller transform is a classic method that transforms uniformly distributed random numbers into independent and identically distributed $(i.i.d)$ standard normal random numbers. It is based on the trigonometric functions. <br>\n",
    "The algorithm is as follows: We generate two random variables, $U_1 \\sim \\mathcal U (0,1)$ and $U_2 \\sim \\mathcal U(0,1)$, such that $U_1$ and $U_2$ are independent. Then, we define $R = \\sqrt{-2 \\log(U_1)}$ and $\\Phi = 2\\pi U_2$. Next, the random variables $X$ and $Y$ are represented in polar form as $X = R \\cos(\\Phi)$ and $Y = R \\sin(\\Phi)$. Therefore, they can be expressed as $X = \\sqrt{-2 \\log(U_1)} \\cos (2\\pi U_2) $ and $Y = \\sqrt{-2 \\log(U_1)} \\sin (2\\pi U_2)$. This implies that $U_1 = e^{-(X^2 + Y^2)/2}$ and $U_2 = \\frac{1}{2\\pi} \\arctan (\\frac XY)$. By calculating the Jacobian matrix equal, we obtain the joint probability density function as follows: $$f_{X,Y}(x,y) = \\frac{1}{\\sqrt{2\\pi}} e^{-\\frac{x^2}{2}} \\cdot \\frac{1}{\\sqrt{2\\pi}} e^{-\\frac{y^2}{2}}.$$ Recall that $$f_{X,Y} (x,y) = f_{X}(x) \\cdot f_Y (y) \\Leftrightarrow X \\perp Y.$$  Therefore, we conclude that $X \\perp Y$, with $X$ following a standard normal distribution $\\mathcal N (0,1)$ and $Y$ following a standard normal distribution $\\mathcal N (0,1)$. <br>\n",
    "The function takes two optional arguments, mu and sigma, representing the mean and standard deviation of the desired normal distribution, respectively. The default values in function are $\\mu=0$ and $\\sigma=1$. Next, the Box-Muller transform is applied to generate two independent standard normal random variables The transformation involves taking $\\sqrt{-2 \\cdot \\log(u)} \\cdot$ and multiplying it by $\\cos(2\\pi v$) and $\\sin(2 \\pi v)$ respectively. These calculations generate two standard normal random variables. <br>\n",
    "\n",
    "## Polar method\n",
    "The Polar method generates pairs of normally distributed random numbers using the transformation of uniform random variables. It employs the rejection technique to ensure efficiency and accuracy in generating random numbers. <br>\n",
    "PolarMethod function is generating random variables from a normal distribution. It takes two arguments: the mean and the variance. In each iteration, two independent random variables are generated from a uniform distribution in the range $[-1, 1]$. The squared distance, R^2, from the origin to the point defined by these two generated random variables is calculated. The algorithm generates new samples as long as the condition $R^2 \\leq 1$ is satisfied. As a result, the function generates pairs of random variables following a normal distribution with parameters $\\mu$ and $\\sigma^2$.\n",
    "\n",
    "## Rejection sampling\n",
    "\n",
    "Rejection sampling is a versatile method for generating random numbers from various distributions, including the normal distribution. This method was described in the previous section with two examples: a continuous example using the Semicircle$(1)$ distribution with Uniform$(-1,1)$, and a discrete example using the Bernoulli$(\\frac 14)$ distribution with Uniform$(0,1)$. In this section, we will focus on the application of rejection sampling for generating random numbers from a normal distribution, which is a continuous probability distribution. <br>\n",
    "The difference between this example and the one generating from the Semicircle$(1)$ with Uniform$(-1,1)$ is the auxiliary distribution used for generating random variables. In the case of rejection sampling for the normal distribution, the auxiliary distribution is the exponential distribution. Therefore, the ratio of the maximum value of the probability density function to the auxiliary probability density function is different."
   ]
  },
  {
   "cell_type": "markdown",
   "id": "094c59e0-3221-42f0-9ba5-866386eef908",
   "metadata": {},
   "source": [
    "# Benchmark\n",
    "\n",
    "The benchmark aims to compare the performance of three methods for generating random variables: Box-Muller transform, Polar method, and rejection sampling. Performance tests are conducted for each method and sample size, and the results are stored in an array. The median execution times for each method and sample size have been computed. In the summary, plots are generated to depict the performance of the methods based on the sample size. <br> <br>\n",
    "Analyzing the graphs presented in the benchmark, it can be observed that for each of the four sample sizes, the rejection sampling method has the longest execution time. The differences between the polar method and the Box-Muller method are small and do not increase with the increase in sample size. With these two methods, the execution time slightly increases with the increase in the sample size. However, the execution time of rejection sampling increases proportionally with the increase in the sample size.\n",
    "\n",
    "\n",
    "\n",
    "\n"
   ]
  },
  {
   "cell_type": "code",
   "execution_count": null,
   "id": "35a96df7-0bbc-45a6-96e3-ecbad818c2ad",
   "metadata": {},
   "outputs": [],
   "source": []
  }
 ],
 "metadata": {
  "kernelspec": {
   "display_name": "Julia 1.8.5",
   "language": "julia",
   "name": "julia-1.8"
  },
  "language_info": {
   "file_extension": ".jl",
   "mimetype": "application/julia",
   "name": "julia",
   "version": "1.8.5"
  }
 },
 "nbformat": 4,
 "nbformat_minor": 5
}
