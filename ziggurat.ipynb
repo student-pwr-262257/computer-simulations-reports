{
 "cells": [
  {
   "cell_type": "markdown",
   "id": "40e6daa8-ce2b-44c4-91a0-b9764674510e",
   "metadata": {},
   "source": [
    "# The Ziggurat Method \n",
    "\n",
    "To perform the Ziggurat method, it was necessary to import the find_zero function from the Roots library. The ParetoGenerator function is responsible for generating a Pareto distribution using the Ziggurat method. This function takes parameters that describe the shape and scale of the distribution. Next, the structure of the Ziggurat for the generator is created, which can be seen as points that assist in generating the Pareto distribution. The values of these points are calculated. To successfully carry out the algorithm, the probability density function, the inverse function of the density function, the tail of the distribution, and the quantile of the distribution are utilized.\n",
    "\n",
    "After the algorithm is executed, a test of the generator from the Pareto distribution with parameters 5 and 1 is performed. Samples from the actual distribution and samples from the implemented generator are generated. Finally, three comparative plots are presented. The first plot shows the empirical cumulative distribution function (CDF) compared to the theoretical CDF. It can be observed that the closer the curves are to each other, the better the generator replicates the distribution. The second plot displays the probability density function (PDF), which represents the normalized histogram of the generated sample along with the theoretical PDF of the Pareto distribution. The histogram accurately reflects the theoretical density values. The last plot is the QQ-plot, which compares the empirical quantiles calculated based on the generated sample. The generated data follows a distribution similar to the theoretical Pareto distribution.\n",
    "\n",
    "\n",
    "\n"
   ]
  },
  {
   "cell_type": "code",
   "execution_count": null,
   "id": "42fce2a1-7010-4e5d-8640-b9fb132731cf",
   "metadata": {},
   "outputs": [],
   "source": []
  }
 ],
 "metadata": {
  "kernelspec": {
   "display_name": "Julia 1.8.5",
   "language": "julia",
   "name": "julia-1.8"
  },
  "language_info": {
   "file_extension": ".jl",
   "mimetype": "application/julia",
   "name": "julia",
   "version": "1.8.5"
  }
 },
 "nbformat": 4,
 "nbformat_minor": 5
}
